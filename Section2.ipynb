{
  "nbformat": 4,
  "nbformat_minor": 0,
  "metadata": {
    "colab": {
      "name": "Section2.ipynb",
      "provenance": [],
      "authorship_tag": "ABX9TyMTeFP+P1m4HEEavyRwiP25",
      "include_colab_link": true
    },
    "kernelspec": {
      "name": "python3",
      "display_name": "Python 3"
    },
    "language_info": {
      "name": "python"
    }
  },
  "cells": [
    {
      "cell_type": "markdown",
      "metadata": {
        "id": "view-in-github",
        "colab_type": "text"
      },
      "source": [
        "<a href=\"https://colab.research.google.com/github/DU-ds/pyspark_udemy/blob/main/Section2.ipynb\" target=\"_parent\"><img src=\"https://colab.research.google.com/assets/colab-badge.svg\" alt=\"Open In Colab\"/></a>"
      ]
    },
    {
      "cell_type": "code",
      "execution_count": 2,
      "metadata": {
        "colab": {
          "base_uri": "https://localhost:8080/"
        },
        "id": "Cup6nMKuUrj3",
        "outputId": "fb7fe9a8-2b0a-4cd0-c9f1-7cc9588baf26"
      },
      "outputs": [
        {
          "output_type": "stream",
          "name": "stdout",
          "text": [
            "\u001b[33m\r0% [Working]\u001b[0m\r            \rIgn:1 https://developer.download.nvidia.com/compute/cuda/repos/ubuntu1804/x86_64  InRelease\n",
            "\u001b[33m\r0% [Connecting to archive.ubuntu.com (91.189.88.142)] [Connecting to security.u\u001b[0m\r                                                                               \rIgn:2 https://developer.download.nvidia.com/compute/machine-learning/repos/ubuntu1804/x86_64  InRelease\n",
            "\u001b[33m\r0% [Connecting to archive.ubuntu.com (91.189.88.142)] [Connecting to security.u\u001b[0m\r                                                                               \rHit:3 https://developer.download.nvidia.com/compute/cuda/repos/ubuntu1804/x86_64  Release\n",
            "\u001b[33m\r0% [Connecting to archive.ubuntu.com (91.189.88.142)] [Connecting to security.u\u001b[0m\r                                                                               \rGet:4 https://cloud.r-project.org/bin/linux/ubuntu bionic-cran40/ InRelease [3,626 B]\n",
            "Hit:5 https://developer.download.nvidia.com/compute/machine-learning/repos/ubuntu1804/x86_64  Release\n",
            "Hit:6 http://archive.ubuntu.com/ubuntu bionic InRelease\n",
            "Get:7 http://security.ubuntu.com/ubuntu bionic-security InRelease [88.7 kB]\n",
            "Get:9 http://archive.ubuntu.com/ubuntu bionic-updates InRelease [88.7 kB]\n",
            "Get:10 http://ppa.launchpad.net/c2d4u.team/c2d4u4.0+/ubuntu bionic InRelease [15.9 kB]\n",
            "Hit:12 http://ppa.launchpad.net/cran/libgit2/ubuntu bionic InRelease\n",
            "Get:13 http://archive.ubuntu.com/ubuntu bionic-backports InRelease [74.6 kB]\n",
            "Get:14 http://ppa.launchpad.net/deadsnakes/ppa/ubuntu bionic InRelease [15.9 kB]\n",
            "Get:15 http://security.ubuntu.com/ubuntu bionic-security/universe amd64 Packages [1,446 kB]\n",
            "Hit:16 http://ppa.launchpad.net/graphics-drivers/ppa/ubuntu bionic InRelease\n",
            "Get:17 http://security.ubuntu.com/ubuntu bionic-security/restricted amd64 Packages [691 kB]\n",
            "Get:18 http://security.ubuntu.com/ubuntu bionic-security/main amd64 Packages [2,461 kB]\n",
            "Get:19 http://ppa.launchpad.net/c2d4u.team/c2d4u4.0+/ubuntu bionic/main Sources [1,819 kB]\n",
            "Get:20 http://archive.ubuntu.com/ubuntu bionic-updates/main amd64 Packages [2,898 kB]\n",
            "Get:21 http://archive.ubuntu.com/ubuntu bionic-updates/universe amd64 Packages [2,228 kB]\n",
            "Get:22 http://ppa.launchpad.net/c2d4u.team/c2d4u4.0+/ubuntu bionic/main amd64 Packages [933 kB]\n",
            "Get:23 http://ppa.launchpad.net/deadsnakes/ppa/ubuntu bionic/main amd64 Packages [45.9 kB]\n",
            "Fetched 12.8 MB in 4s (2,925 kB/s)\n",
            "Reading package lists... Done\n",
            "Building dependency tree       \n",
            "Reading state information... Done\n",
            "57 packages can be upgraded. Run 'apt list --upgradable' to see them.\n",
            "\n",
            "WARNING: apt does not have a stable CLI interface. Use with caution in scripts.\n",
            "\n",
            "sample_data  spark-2.3.1-bin-hadoop2.7\tspark-2.3.1-bin-hadoop2.7.tgz\n"
          ]
        }
      ],
      "source": [
        "! apt update\n",
        "! apt install openjdk-8-jdk-headless -qq > /dev/null\n",
        "! wget -q http://archive.apache.org/dist/spark/spark-2.3.1/spark-2.3.1-bin-hadoop2.7.tgz\n",
        "! tar xf spark-2.3.1-bin-hadoop2.7.tgz\n",
        "! pip install -q findspark\n",
        "\n",
        "import os\n",
        "os.environ[\"JAVA_HOME\"] = \"/usr/lib/jvm/java-8-openjdk-amd64\"\n",
        "os.environ[\"SPARK_HOME\"] = \"/content/spark-2.3.1-bin-hadoop2.7\"\n",
        "\n",
        "! ls\n",
        "\n",
        "import findspark\n",
        "findspark.init()\n",
        "\n",
        "import pyspark\n",
        "from pyspark.sql import SparkSession\n"
      ]
    },
    {
      "cell_type": "code",
      "source": [
        "spark = SparkSession.builder.getOrCreate()\n",
        "spark"
      ],
      "metadata": {
        "colab": {
          "base_uri": "https://localhost:8080/",
          "height": 222
        },
        "id": "t9ZS-GjvW1hi",
        "outputId": "0f57459e-39b9-487b-c38e-4b0f370dc84b"
      },
      "execution_count": 3,
      "outputs": [
        {
          "output_type": "execute_result",
          "data": {
            "text/html": [
              "\n",
              "            <div>\n",
              "                <p><b>SparkSession - in-memory</b></p>\n",
              "                \n",
              "        <div>\n",
              "            <p><b>SparkContext</b></p>\n",
              "\n",
              "            <p><a href=\"http://2d1f38b3a5a2:4040\">Spark UI</a></p>\n",
              "\n",
              "            <dl>\n",
              "              <dt>Version</dt>\n",
              "                <dd><code>v2.3.1</code></dd>\n",
              "              <dt>Master</dt>\n",
              "                <dd><code>local[*]</code></dd>\n",
              "              <dt>AppName</dt>\n",
              "                <dd><code>pyspark-shell</code></dd>\n",
              "            </dl>\n",
              "        </div>\n",
              "        \n",
              "            </div>\n",
              "        "
            ],
            "text/plain": [
              "<pyspark.sql.session.SparkSession at 0x7f2581766c10>"
            ]
          },
          "metadata": {},
          "execution_count": 3
        }
      ]
    },
    {
      "cell_type": "code",
      "source": [
        "\n",
        "data = spark.read.format(\"csv\").option(\"header\", \"true\").load(\"original.csv\")"
      ],
      "metadata": {
        "id": "A9JsoM6hXNKQ"
      },
      "execution_count": 5,
      "outputs": []
    },
    {
      "cell_type": "code",
      "source": [
        "data.show()"
      ],
      "metadata": {
        "colab": {
          "base_uri": "https://localhost:8080/"
        },
        "id": "0j5UvF4jin0e",
        "outputId": "3ee82de2-0849-4a13-df33-d0625e5774af"
      },
      "execution_count": 6,
      "outputs": [
        {
          "output_type": "stream",
          "name": "stdout",
          "text": [
            "+---+----------+----------+------+---------------+--------------------+---------+----------+-----------+\n",
            "| id|first_name| last_name|gender|           City|            JobTitle|   Salary|  Latitude|  Longitude|\n",
            "+---+----------+----------+------+---------------+--------------------+---------+----------+-----------+\n",
            "|  1|   Melinde| Shilburne|Female|      Nowa Ruda| Assistant Professor|$57438.18|50.5774075| 16.4967184|\n",
            "|  2|  Kimberly|Von Welden|Female|         Bulgan|       Programmer II|$62846.60|48.8231572|103.5218199|\n",
            "|  3|    Alvera|  Di Boldi|Female|           null|                null|$57576.52|39.9947462|116.3397725|\n",
            "|  4|   Shannon| O'Griffin|  Male|  Divnomorskoye|Budget/Accounting...|$61489.23|44.5047212| 38.1300171|\n",
            "|  5|  Sherwood|   Macieja|  Male|      Mytishchi|            VP Sales|$63863.09|      null| 37.6489954|\n",
            "|  6|     Maris|      Folk|Female|Kinsealy-Drinan|      Civil Engineer|$30101.16|53.4266145| -6.1644997|\n",
            "|  7|     Masha|    Divers|Female|         Dachun|                null|$25090.87| 24.879416| 118.930111|\n",
            "|  8|   Goddart|     Flear|  Male|      Trélissac|Desktop Support T...|$46116.36|45.1905186|  0.7423124|\n",
            "|  9|      Roth|O'Cannavan|  Male|         Heitan|VP Product Manage...|$73697.10| 32.027934| 106.657113|\n",
            "| 10|      Bran|   Trahear|  Male|       Arbeláez|Mechanical System...|$68098.42|  4.272793| -74.416014|\n",
            "| 11|    Kylynn|   Lockart|Female|       El Cardo|Nuclear Power Eng...|$13604.63|     -5.85|-79.8833329|\n",
            "| 12|       Rey|    Meharg|Female|    Wangqingtuo|Systems Administr...|$73423.70| 39.172378| 116.931607|\n",
            "| 13|      Kerr|    Braden|  Male|      Sułkowice|Compensation Analyst|$33432.99|49.8151822| 19.3771749|\n",
            "| 14|    Mickie| Whanstall|  Male|    Springfield|Assistant Media P...|$50838.53|42.1014803|-72.5766759|\n",
            "| 15|    Kaspar|     Pally|  Male|         Chrást|  Analyst Programmer|$40163.03|49.7923299| 13.4915324|\n",
            "| 16|    Norbie|    Gwyllt|  Male|         Xijiao|              Editor|$32492.73|43.4945737|  5.8978018|\n",
            "| 17|    Claude|    Briant|Female|      Mieścisko|Research Assistan...|$51862.48|52.7441662| 17.3278637|\n",
            "| 18|     Thain|    Habbon|  Male| Foros do Trapo|     Design Engineer|$42135.67| 38.696249| -8.7098337|\n",
            "| 19|  Tiffanie|  Pattison|Female|    Jabungsisir|Senior Financial ...|$91925.08|-7.7232567|113.4686802|\n",
            "| 20|    Ettore|  Gerriets|  Male|          Pedra| Staff Accountant IV|$73921.33|40.7172049| -8.3625148|\n",
            "+---+----------+----------+------+---------------+--------------------+---------+----------+-----------+\n",
            "only showing top 20 rows\n",
            "\n"
          ]
        }
      ]
    },
    {
      "cell_type": "code",
      "source": [
        "from pyspark.sql.functions import *\n",
        "data = data.withColumn(\"city\", when(data.City.isNull(), \"Unknown\").otherwise(data.City)) "
      ],
      "metadata": {
        "id": "rSRpJMRRirzN"
      },
      "execution_count": 7,
      "outputs": []
    },
    {
      "cell_type": "code",
      "source": [
        "data.show()"
      ],
      "metadata": {
        "colab": {
          "base_uri": "https://localhost:8080/"
        },
        "id": "jGJqBDZRjgqY",
        "outputId": "b9107aac-f187-4567-f8e5-8227193cbbff"
      },
      "execution_count": 8,
      "outputs": [
        {
          "output_type": "stream",
          "name": "stdout",
          "text": [
            "+---+----------+----------+------+---------------+--------------------+---------+----------+-----------+\n",
            "| id|first_name| last_name|gender|           city|            JobTitle|   Salary|  Latitude|  Longitude|\n",
            "+---+----------+----------+------+---------------+--------------------+---------+----------+-----------+\n",
            "|  1|   Melinde| Shilburne|Female|      Nowa Ruda| Assistant Professor|$57438.18|50.5774075| 16.4967184|\n",
            "|  2|  Kimberly|Von Welden|Female|         Bulgan|       Programmer II|$62846.60|48.8231572|103.5218199|\n",
            "|  3|    Alvera|  Di Boldi|Female|        Unknown|                null|$57576.52|39.9947462|116.3397725|\n",
            "|  4|   Shannon| O'Griffin|  Male|  Divnomorskoye|Budget/Accounting...|$61489.23|44.5047212| 38.1300171|\n",
            "|  5|  Sherwood|   Macieja|  Male|      Mytishchi|            VP Sales|$63863.09|      null| 37.6489954|\n",
            "|  6|     Maris|      Folk|Female|Kinsealy-Drinan|      Civil Engineer|$30101.16|53.4266145| -6.1644997|\n",
            "|  7|     Masha|    Divers|Female|         Dachun|                null|$25090.87| 24.879416| 118.930111|\n",
            "|  8|   Goddart|     Flear|  Male|      Trélissac|Desktop Support T...|$46116.36|45.1905186|  0.7423124|\n",
            "|  9|      Roth|O'Cannavan|  Male|         Heitan|VP Product Manage...|$73697.10| 32.027934| 106.657113|\n",
            "| 10|      Bran|   Trahear|  Male|       Arbeláez|Mechanical System...|$68098.42|  4.272793| -74.416014|\n",
            "| 11|    Kylynn|   Lockart|Female|       El Cardo|Nuclear Power Eng...|$13604.63|     -5.85|-79.8833329|\n",
            "| 12|       Rey|    Meharg|Female|    Wangqingtuo|Systems Administr...|$73423.70| 39.172378| 116.931607|\n",
            "| 13|      Kerr|    Braden|  Male|      Sułkowice|Compensation Analyst|$33432.99|49.8151822| 19.3771749|\n",
            "| 14|    Mickie| Whanstall|  Male|    Springfield|Assistant Media P...|$50838.53|42.1014803|-72.5766759|\n",
            "| 15|    Kaspar|     Pally|  Male|         Chrást|  Analyst Programmer|$40163.03|49.7923299| 13.4915324|\n",
            "| 16|    Norbie|    Gwyllt|  Male|         Xijiao|              Editor|$32492.73|43.4945737|  5.8978018|\n",
            "| 17|    Claude|    Briant|Female|      Mieścisko|Research Assistan...|$51862.48|52.7441662| 17.3278637|\n",
            "| 18|     Thain|    Habbon|  Male| Foros do Trapo|     Design Engineer|$42135.67| 38.696249| -8.7098337|\n",
            "| 19|  Tiffanie|  Pattison|Female|    Jabungsisir|Senior Financial ...|$91925.08|-7.7232567|113.4686802|\n",
            "| 20|    Ettore|  Gerriets|  Male|          Pedra| Staff Accountant IV|$73921.33|40.7172049| -8.3625148|\n",
            "+---+----------+----------+------+---------------+--------------------+---------+----------+-----------+\n",
            "only showing top 20 rows\n",
            "\n"
          ]
        }
      ]
    },
    {
      "cell_type": "code",
      "source": [
        "data = data.filter(data.JobTitle.isNotNull())"
      ],
      "metadata": {
        "id": "xYM3K8A1kPXK"
      },
      "execution_count": 9,
      "outputs": []
    },
    {
      "cell_type": "code",
      "source": [
        "data.show()"
      ],
      "metadata": {
        "id": "2FaWWoUZkY3S"
      },
      "execution_count": null,
      "outputs": []
    },
    {
      "cell_type": "code",
      "source": [
        "data = data.withColumn(\"clean_salary\", data.Salary.substr(2,100).cast('float'))\n",
        "data.show()"
      ],
      "metadata": {
        "colab": {
          "base_uri": "https://localhost:8080/"
        },
        "id": "NYcxt1P6kjX4",
        "outputId": "33a51309-d749-4478-afb1-7e71a341a1f7"
      },
      "execution_count": 11,
      "outputs": [
        {
          "output_type": "stream",
          "name": "stdout",
          "text": [
            "+---+----------+----------+------+---------------+--------------------+---------+----------+-----------+------------+\n",
            "| id|first_name| last_name|gender|           city|            JobTitle|   Salary|  Latitude|  Longitude|clean_salary|\n",
            "+---+----------+----------+------+---------------+--------------------+---------+----------+-----------+------------+\n",
            "|  1|   Melinde| Shilburne|Female|      Nowa Ruda| Assistant Professor|$57438.18|50.5774075| 16.4967184|    57438.18|\n",
            "|  2|  Kimberly|Von Welden|Female|         Bulgan|       Programmer II|$62846.60|48.8231572|103.5218199|     62846.6|\n",
            "|  4|   Shannon| O'Griffin|  Male|  Divnomorskoye|Budget/Accounting...|$61489.23|44.5047212| 38.1300171|    61489.23|\n",
            "|  5|  Sherwood|   Macieja|  Male|      Mytishchi|            VP Sales|$63863.09|      null| 37.6489954|    63863.09|\n",
            "|  6|     Maris|      Folk|Female|Kinsealy-Drinan|      Civil Engineer|$30101.16|53.4266145| -6.1644997|    30101.16|\n",
            "|  8|   Goddart|     Flear|  Male|      Trélissac|Desktop Support T...|$46116.36|45.1905186|  0.7423124|    46116.36|\n",
            "|  9|      Roth|O'Cannavan|  Male|         Heitan|VP Product Manage...|$73697.10| 32.027934| 106.657113|     73697.1|\n",
            "| 10|      Bran|   Trahear|  Male|       Arbeláez|Mechanical System...|$68098.42|  4.272793| -74.416014|    68098.42|\n",
            "| 11|    Kylynn|   Lockart|Female|       El Cardo|Nuclear Power Eng...|$13604.63|     -5.85|-79.8833329|    13604.63|\n",
            "| 12|       Rey|    Meharg|Female|    Wangqingtuo|Systems Administr...|$73423.70| 39.172378| 116.931607|     73423.7|\n",
            "| 13|      Kerr|    Braden|  Male|      Sułkowice|Compensation Analyst|$33432.99|49.8151822| 19.3771749|    33432.99|\n",
            "| 14|    Mickie| Whanstall|  Male|    Springfield|Assistant Media P...|$50838.53|42.1014803|-72.5766759|    50838.53|\n",
            "| 15|    Kaspar|     Pally|  Male|         Chrást|  Analyst Programmer|$40163.03|49.7923299| 13.4915324|    40163.03|\n",
            "| 16|    Norbie|    Gwyllt|  Male|         Xijiao|              Editor|$32492.73|43.4945737|  5.8978018|    32492.73|\n",
            "| 17|    Claude|    Briant|Female|      Mieścisko|Research Assistan...|$51862.48|52.7441662| 17.3278637|    51862.48|\n",
            "| 18|     Thain|    Habbon|  Male| Foros do Trapo|     Design Engineer|$42135.67| 38.696249| -8.7098337|    42135.67|\n",
            "| 19|  Tiffanie|  Pattison|Female|    Jabungsisir|Senior Financial ...|$91925.08|-7.7232567|113.4686802|    91925.08|\n",
            "| 20|    Ettore|  Gerriets|  Male|          Pedra| Staff Accountant IV|$73921.33|40.7172049| -8.3625148|    73921.33|\n",
            "| 21|      Alon|  Chasteau|  Male|          Xin’e|     Web Developer I|$62755.85|  49.16291|  127.98658|    62755.85|\n",
            "| 22|   Guthrey|    Johnke|  Male|         Xijiao|         Developer I|$13708.03|40.7576842| 23.1342184|    13708.03|\n",
            "+---+----------+----------+------+---------------+--------------------+---------+----------+-----------+------------+\n",
            "only showing top 20 rows\n",
            "\n"
          ]
        }
      ]
    },
    {
      "cell_type": "code",
      "source": [
        "mean = data.groupBy().avg(\"clean_salary\")\n",
        "mean.show()"
      ],
      "metadata": {
        "colab": {
          "base_uri": "https://localhost:8080/"
        },
        "id": "_yAOTw3zk0Yo",
        "outputId": "7d5b5aeb-8e12-4033-fb0a-8bde4a04d3fe"
      },
      "execution_count": 12,
      "outputs": [
        {
          "output_type": "stream",
          "name": "stdout",
          "text": [
            "+-----------------+\n",
            "|avg(clean_salary)|\n",
            "+-----------------+\n",
            "|55516.32088199837|\n",
            "+-----------------+\n",
            "\n"
          ]
        }
      ]
    },
    {
      "cell_type": "code",
      "source": [
        "mean.take(1)"
      ],
      "metadata": {
        "colab": {
          "base_uri": "https://localhost:8080/"
        },
        "id": "OcywARwPlGBR",
        "outputId": "dc3d9368-f1d3-4ca6-bd61-0100336639ac"
      },
      "execution_count": 13,
      "outputs": [
        {
          "output_type": "execute_result",
          "data": {
            "text/plain": [
              "[Row(avg(clean_salary)=55516.32088199837)]"
            ]
          },
          "metadata": {},
          "execution_count": 13
        }
      ]
    },
    {
      "cell_type": "code",
      "source": [
        "mean.take(1)[0]"
      ],
      "metadata": {
        "colab": {
          "base_uri": "https://localhost:8080/"
        },
        "id": "ME6HB3HnlJjR",
        "outputId": "f9ac2189-8ac0-4643-fb9b-57598131ac5b"
      },
      "execution_count": 14,
      "outputs": [
        {
          "output_type": "execute_result",
          "data": {
            "text/plain": [
              "Row(avg(clean_salary)=55516.32088199837)"
            ]
          },
          "metadata": {},
          "execution_count": 14
        }
      ]
    },
    {
      "cell_type": "code",
      "source": [
        "avg = mean.take(1)[0][0]\n",
        "avg"
      ],
      "metadata": {
        "colab": {
          "base_uri": "https://localhost:8080/"
        },
        "id": "DK6uHvCxlNmU",
        "outputId": "0b84e4e4-068c-498e-ec39-79272b4ffcb9"
      },
      "execution_count": 15,
      "outputs": [
        {
          "output_type": "execute_result",
          "data": {
            "text/plain": [
              "55516.32088199837"
            ]
          },
          "metadata": {},
          "execution_count": 15
        }
      ]
    },
    {
      "cell_type": "code",
      "source": [
        "data = data.withColumn('new_salary', when(data.clean_salary.isNull(), lit(avg)).otherwise(data.clean_salary))\n",
        "data.show()"
      ],
      "metadata": {
        "colab": {
          "base_uri": "https://localhost:8080/"
        },
        "id": "MvI5RH08lPz3",
        "outputId": "cec93598-e8b5-43d8-a678-d06bc75e396d"
      },
      "execution_count": 16,
      "outputs": [
        {
          "output_type": "stream",
          "name": "stdout",
          "text": [
            "+---+----------+----------+------+---------------+--------------------+---------+----------+-----------+------------+----------------+\n",
            "| id|first_name| last_name|gender|           city|            JobTitle|   Salary|  Latitude|  Longitude|clean_salary|      new_salary|\n",
            "+---+----------+----------+------+---------------+--------------------+---------+----------+-----------+------------+----------------+\n",
            "|  1|   Melinde| Shilburne|Female|      Nowa Ruda| Assistant Professor|$57438.18|50.5774075| 16.4967184|    57438.18|   57438.1796875|\n",
            "|  2|  Kimberly|Von Welden|Female|         Bulgan|       Programmer II|$62846.60|48.8231572|103.5218199|     62846.6|   62846.6015625|\n",
            "|  4|   Shannon| O'Griffin|  Male|  Divnomorskoye|Budget/Accounting...|$61489.23|44.5047212| 38.1300171|    61489.23|  61489.23046875|\n",
            "|  5|  Sherwood|   Macieja|  Male|      Mytishchi|            VP Sales|$63863.09|      null| 37.6489954|    63863.09|  63863.08984375|\n",
            "|  6|     Maris|      Folk|Female|Kinsealy-Drinan|      Civil Engineer|$30101.16|53.4266145| -6.1644997|    30101.16|  30101.16015625|\n",
            "|  8|   Goddart|     Flear|  Male|      Trélissac|Desktop Support T...|$46116.36|45.1905186|  0.7423124|    46116.36|    46116.359375|\n",
            "|  9|      Roth|O'Cannavan|  Male|         Heitan|VP Product Manage...|$73697.10| 32.027934| 106.657113|     73697.1|   73697.1015625|\n",
            "| 10|      Bran|   Trahear|  Male|       Arbeláez|Mechanical System...|$68098.42|  4.272793| -74.416014|    68098.42|    68098.421875|\n",
            "| 11|    Kylynn|   Lockart|Female|       El Cardo|Nuclear Power Eng...|$13604.63|     -5.85|-79.8833329|    13604.63|13604.6298828125|\n",
            "| 12|       Rey|    Meharg|Female|    Wangqingtuo|Systems Administr...|$73423.70| 39.172378| 116.931607|     73423.7|    73423.703125|\n",
            "| 13|      Kerr|    Braden|  Male|      Sułkowice|Compensation Analyst|$33432.99|49.8151822| 19.3771749|    33432.99|  33432.98828125|\n",
            "| 14|    Mickie| Whanstall|  Male|    Springfield|Assistant Media P...|$50838.53|42.1014803|-72.5766759|    50838.53|     50838.53125|\n",
            "| 15|    Kaspar|     Pally|  Male|         Chrást|  Analyst Programmer|$40163.03|49.7923299| 13.4915324|    40163.03|     40163.03125|\n",
            "| 16|    Norbie|    Gwyllt|  Male|         Xijiao|              Editor|$32492.73|43.4945737|  5.8978018|    32492.73|  32492.73046875|\n",
            "| 17|    Claude|    Briant|Female|      Mieścisko|Research Assistan...|$51862.48|52.7441662| 17.3278637|    51862.48|  51862.48046875|\n",
            "| 18|     Thain|    Habbon|  Male| Foros do Trapo|     Design Engineer|$42135.67| 38.696249| -8.7098337|    42135.67|    42135.671875|\n",
            "| 19|  Tiffanie|  Pattison|Female|    Jabungsisir|Senior Financial ...|$91925.08|-7.7232567|113.4686802|    91925.08|    91925.078125|\n",
            "| 20|    Ettore|  Gerriets|  Male|          Pedra| Staff Accountant IV|$73921.33|40.7172049| -8.3625148|    73921.33|    73921.328125|\n",
            "| 21|      Alon|  Chasteau|  Male|          Xin’e|     Web Developer I|$62755.85|  49.16291|  127.98658|    62755.85|   62755.8515625|\n",
            "| 22|   Guthrey|    Johnke|  Male|         Xijiao|         Developer I|$13708.03|40.7576842| 23.1342184|    13708.03|13708.0302734375|\n",
            "+---+----------+----------+------+---------------+--------------------+---------+----------+-----------+------------+----------------+\n",
            "only showing top 20 rows\n",
            "\n"
          ]
        }
      ]
    },
    {
      "cell_type": "code",
      "source": [
        "import numpy as np\n",
        "latitudes = data.select('Latitude')\n",
        "latitudes.show()\n"
      ],
      "metadata": {
        "colab": {
          "base_uri": "https://localhost:8080/"
        },
        "id": "JCqUkr3xmo2v",
        "outputId": "aa5c02cb-6011-43ee-b9fb-948bf1744329"
      },
      "execution_count": 22,
      "outputs": [
        {
          "output_type": "stream",
          "name": "stdout",
          "text": [
            "+----------+\n",
            "|  Latitude|\n",
            "+----------+\n",
            "|50.5774075|\n",
            "|48.8231572|\n",
            "|44.5047212|\n",
            "|      null|\n",
            "|53.4266145|\n",
            "|45.1905186|\n",
            "| 32.027934|\n",
            "|  4.272793|\n",
            "|     -5.85|\n",
            "| 39.172378|\n",
            "|49.8151822|\n",
            "|42.1014803|\n",
            "|49.7923299|\n",
            "|43.4945737|\n",
            "|52.7441662|\n",
            "| 38.696249|\n",
            "|-7.7232567|\n",
            "|40.7172049|\n",
            "|  49.16291|\n",
            "|40.7576842|\n",
            "+----------+\n",
            "only showing top 20 rows\n",
            "\n"
          ]
        }
      ]
    },
    {
      "cell_type": "code",
      "source": [
        "latitudes = latitudes.filter(latitudes.Latitude.isNotNull())\n",
        "latitudes.show()"
      ],
      "metadata": {
        "colab": {
          "base_uri": "https://localhost:8080/"
        },
        "id": "bf6S9KcpWHHG",
        "outputId": "4c000db0-2cf5-449c-f6f6-662abf86bb10"
      },
      "execution_count": 24,
      "outputs": [
        {
          "output_type": "stream",
          "name": "stdout",
          "text": [
            "+----------+\n",
            "|  Latitude|\n",
            "+----------+\n",
            "|50.5774075|\n",
            "|48.8231572|\n",
            "|44.5047212|\n",
            "|53.4266145|\n",
            "|45.1905186|\n",
            "| 32.027934|\n",
            "|  4.272793|\n",
            "|     -5.85|\n",
            "| 39.172378|\n",
            "|49.8151822|\n",
            "|42.1014803|\n",
            "|49.7923299|\n",
            "|43.4945737|\n",
            "|52.7441662|\n",
            "| 38.696249|\n",
            "|-7.7232567|\n",
            "|40.7172049|\n",
            "|  49.16291|\n",
            "|40.7576842|\n",
            "|48.4902808|\n",
            "+----------+\n",
            "only showing top 20 rows\n",
            "\n"
          ]
        }
      ]
    },
    {
      "cell_type": "code",
      "source": [
        "# import folium\n",
        "# folium.Map()"
      ],
      "metadata": {
        "id": "8cQR5AmEM0dh"
      },
      "execution_count": 25,
      "outputs": []
    },
    {
      "cell_type": "code",
      "source": [
        "latitudes = latitudes.withColumn('latitude2', latitudes.Latitude.cast(\"float\"))\n",
        "latitudes.show()"
      ],
      "metadata": {
        "colab": {
          "base_uri": "https://localhost:8080/"
        },
        "id": "bguu14n8VuB8",
        "outputId": "ba188cc5-f216-4856-88d9-70d8344e717e"
      },
      "execution_count": 28,
      "outputs": [
        {
          "output_type": "stream",
          "name": "stdout",
          "text": [
            "+----------+----------+\n",
            "|  Latitude| latitude2|\n",
            "+----------+----------+\n",
            "|50.5774075| 50.577408|\n",
            "|48.8231572|  48.82316|\n",
            "|44.5047212| 44.504723|\n",
            "|53.4266145| 53.426613|\n",
            "|45.1905186| 45.190517|\n",
            "| 32.027934| 32.027935|\n",
            "|  4.272793|  4.272793|\n",
            "|     -5.85|     -5.85|\n",
            "| 39.172378|  39.17238|\n",
            "|49.8151822|  49.81518|\n",
            "|42.1014803|  42.10148|\n",
            "|49.7923299|  49.79233|\n",
            "|43.4945737| 43.494576|\n",
            "|52.7441662| 52.744167|\n",
            "| 38.696249| 38.696247|\n",
            "|-7.7232567|-7.7232566|\n",
            "|40.7172049| 40.717205|\n",
            "|  49.16291|  49.16291|\n",
            "|40.7576842| 40.757683|\n",
            "|48.4902808|  48.49028|\n",
            "+----------+----------+\n",
            "only showing top 20 rows\n",
            "\n"
          ]
        }
      ]
    },
    {
      "cell_type": "code",
      "source": [
        "latitudes = latitudes.select('latitude2')\n",
        "latitudes.show()"
      ],
      "metadata": {
        "colab": {
          "base_uri": "https://localhost:8080/"
        },
        "id": "JTphj2acVuQn",
        "outputId": "3944360b-4a60-498d-8a6d-db3c91027837"
      },
      "execution_count": 30,
      "outputs": [
        {
          "output_type": "stream",
          "name": "stdout",
          "text": [
            "+----------+\n",
            "| latitude2|\n",
            "+----------+\n",
            "| 50.577408|\n",
            "|  48.82316|\n",
            "| 44.504723|\n",
            "| 53.426613|\n",
            "| 45.190517|\n",
            "| 32.027935|\n",
            "|  4.272793|\n",
            "|     -5.85|\n",
            "|  39.17238|\n",
            "|  49.81518|\n",
            "|  42.10148|\n",
            "|  49.79233|\n",
            "| 43.494576|\n",
            "| 52.744167|\n",
            "| 38.696247|\n",
            "|-7.7232566|\n",
            "| 40.717205|\n",
            "|  49.16291|\n",
            "| 40.757683|\n",
            "|  48.49028|\n",
            "+----------+\n",
            "only showing top 20 rows\n",
            "\n"
          ]
        }
      ]
    },
    {
      "cell_type": "code",
      "source": [
        "median = np.median(latitudes.collect())"
      ],
      "metadata": {
        "id": "8YBm82hwVuVJ"
      },
      "execution_count": 31,
      "outputs": []
    },
    {
      "cell_type": "code",
      "source": [
        "print(median)"
      ],
      "metadata": {
        "colab": {
          "base_uri": "https://localhost:8080/"
        },
        "id": "AuCqRgRmVuZS",
        "outputId": "258fc34c-174a-4972-faab-ce175cf63064"
      },
      "execution_count": 32,
      "outputs": [
        {
          "output_type": "stream",
          "name": "stdout",
          "text": [
            "31.93397331237793\n"
          ]
        }
      ]
    },
    {
      "cell_type": "code",
      "source": [
        "data = data.withColumn('lat', when(data.Latitude.isNull(), lit(median)).otherwise(data.Latitude) )"
      ],
      "metadata": {
        "id": "gY4r-K_-XLUW"
      },
      "execution_count": 35,
      "outputs": []
    },
    {
      "cell_type": "code",
      "source": [
        "data.show()"
      ],
      "metadata": {
        "colab": {
          "base_uri": "https://localhost:8080/"
        },
        "id": "NNKJ7zMLXt5l",
        "outputId": "267de1a8-05a5-47d6-98ca-74abac695b05"
      },
      "execution_count": 36,
      "outputs": [
        {
          "output_type": "stream",
          "name": "stdout",
          "text": [
            "+---+----------+----------+------+---------------+--------------------+---------+----------+-----------+------------+----------------+-----------------+\n",
            "| id|first_name| last_name|gender|           city|            JobTitle|   Salary|  Latitude|  Longitude|clean_salary|      new_salary|              lat|\n",
            "+---+----------+----------+------+---------------+--------------------+---------+----------+-----------+------------+----------------+-----------------+\n",
            "|  1|   Melinde| Shilburne|Female|      Nowa Ruda| Assistant Professor|$57438.18|50.5774075| 16.4967184|    57438.18|   57438.1796875|       50.5774075|\n",
            "|  2|  Kimberly|Von Welden|Female|         Bulgan|       Programmer II|$62846.60|48.8231572|103.5218199|     62846.6|   62846.6015625|       48.8231572|\n",
            "|  4|   Shannon| O'Griffin|  Male|  Divnomorskoye|Budget/Accounting...|$61489.23|44.5047212| 38.1300171|    61489.23|  61489.23046875|       44.5047212|\n",
            "|  5|  Sherwood|   Macieja|  Male|      Mytishchi|            VP Sales|$63863.09|      null| 37.6489954|    63863.09|  63863.08984375|31.93397331237793|\n",
            "|  6|     Maris|      Folk|Female|Kinsealy-Drinan|      Civil Engineer|$30101.16|53.4266145| -6.1644997|    30101.16|  30101.16015625|       53.4266145|\n",
            "|  8|   Goddart|     Flear|  Male|      Trélissac|Desktop Support T...|$46116.36|45.1905186|  0.7423124|    46116.36|    46116.359375|       45.1905186|\n",
            "|  9|      Roth|O'Cannavan|  Male|         Heitan|VP Product Manage...|$73697.10| 32.027934| 106.657113|     73697.1|   73697.1015625|        32.027934|\n",
            "| 10|      Bran|   Trahear|  Male|       Arbeláez|Mechanical System...|$68098.42|  4.272793| -74.416014|    68098.42|    68098.421875|         4.272793|\n",
            "| 11|    Kylynn|   Lockart|Female|       El Cardo|Nuclear Power Eng...|$13604.63|     -5.85|-79.8833329|    13604.63|13604.6298828125|            -5.85|\n",
            "| 12|       Rey|    Meharg|Female|    Wangqingtuo|Systems Administr...|$73423.70| 39.172378| 116.931607|     73423.7|    73423.703125|        39.172378|\n",
            "| 13|      Kerr|    Braden|  Male|      Sułkowice|Compensation Analyst|$33432.99|49.8151822| 19.3771749|    33432.99|  33432.98828125|       49.8151822|\n",
            "| 14|    Mickie| Whanstall|  Male|    Springfield|Assistant Media P...|$50838.53|42.1014803|-72.5766759|    50838.53|     50838.53125|       42.1014803|\n",
            "| 15|    Kaspar|     Pally|  Male|         Chrást|  Analyst Programmer|$40163.03|49.7923299| 13.4915324|    40163.03|     40163.03125|       49.7923299|\n",
            "| 16|    Norbie|    Gwyllt|  Male|         Xijiao|              Editor|$32492.73|43.4945737|  5.8978018|    32492.73|  32492.73046875|       43.4945737|\n",
            "| 17|    Claude|    Briant|Female|      Mieścisko|Research Assistan...|$51862.48|52.7441662| 17.3278637|    51862.48|  51862.48046875|       52.7441662|\n",
            "| 18|     Thain|    Habbon|  Male| Foros do Trapo|     Design Engineer|$42135.67| 38.696249| -8.7098337|    42135.67|    42135.671875|        38.696249|\n",
            "| 19|  Tiffanie|  Pattison|Female|    Jabungsisir|Senior Financial ...|$91925.08|-7.7232567|113.4686802|    91925.08|    91925.078125|       -7.7232567|\n",
            "| 20|    Ettore|  Gerriets|  Male|          Pedra| Staff Accountant IV|$73921.33|40.7172049| -8.3625148|    73921.33|    73921.328125|       40.7172049|\n",
            "| 21|      Alon|  Chasteau|  Male|          Xin’e|     Web Developer I|$62755.85|  49.16291|  127.98658|    62755.85|   62755.8515625|         49.16291|\n",
            "| 22|   Guthrey|    Johnke|  Male|         Xijiao|         Developer I|$13708.03|40.7576842| 23.1342184|    13708.03|13708.0302734375|       40.7576842|\n",
            "+---+----------+----------+------+---------------+--------------------+---------+----------+-----------+------------+----------------+-----------------+\n",
            "only showing top 20 rows\n",
            "\n"
          ]
        }
      ]
    },
    {
      "cell_type": "code",
      "source": [
        "from pyspark.sql import functions as sqlf\n",
        "genders = data.groupBy(\"gender\").agg(sqlf.avg(\"new_salary\").alias(\"AvgSalary\"))"
      ],
      "metadata": {
        "id": "1AoA-pkGagyi"
      },
      "execution_count": 37,
      "outputs": []
    },
    {
      "cell_type": "code",
      "source": [
        "genders.show()"
      ],
      "metadata": {
        "colab": {
          "base_uri": "https://localhost:8080/"
        },
        "id": "wzSMEq7qa0RY",
        "outputId": "5140caf0-6e71-4151-d813-f3a13773adfb"
      },
      "execution_count": 38,
      "outputs": [
        {
          "output_type": "stream",
          "name": "stdout",
          "text": [
            "+------+------------------+\n",
            "|gender|         AvgSalary|\n",
            "+------+------------------+\n",
            "|Female|55677.250125558036|\n",
            "|  Male| 55361.09385573019|\n",
            "+------+------------------+\n",
            "\n"
          ]
        }
      ]
    },
    {
      "cell_type": "code",
      "source": [
        "df = data.withColumn(\"female_salary\", when(data.gender == \"Female\", data.new_salary).otherwise(lit(0)))\n",
        "df.show()"
      ],
      "metadata": {
        "colab": {
          "base_uri": "https://localhost:8080/"
        },
        "id": "e4DA0pJCa9-L",
        "outputId": "4df2053b-a27a-498d-c0f7-1cfb00cde74b"
      },
      "execution_count": 39,
      "outputs": [
        {
          "output_type": "stream",
          "name": "stdout",
          "text": [
            "+---+----------+----------+------+---------------+--------------------+---------+----------+-----------+------------+----------------+-----------------+----------------+\n",
            "| id|first_name| last_name|gender|           city|            JobTitle|   Salary|  Latitude|  Longitude|clean_salary|      new_salary|              lat|   female_salary|\n",
            "+---+----------+----------+------+---------------+--------------------+---------+----------+-----------+------------+----------------+-----------------+----------------+\n",
            "|  1|   Melinde| Shilburne|Female|      Nowa Ruda| Assistant Professor|$57438.18|50.5774075| 16.4967184|    57438.18|   57438.1796875|       50.5774075|   57438.1796875|\n",
            "|  2|  Kimberly|Von Welden|Female|         Bulgan|       Programmer II|$62846.60|48.8231572|103.5218199|     62846.6|   62846.6015625|       48.8231572|   62846.6015625|\n",
            "|  4|   Shannon| O'Griffin|  Male|  Divnomorskoye|Budget/Accounting...|$61489.23|44.5047212| 38.1300171|    61489.23|  61489.23046875|       44.5047212|             0.0|\n",
            "|  5|  Sherwood|   Macieja|  Male|      Mytishchi|            VP Sales|$63863.09|      null| 37.6489954|    63863.09|  63863.08984375|31.93397331237793|             0.0|\n",
            "|  6|     Maris|      Folk|Female|Kinsealy-Drinan|      Civil Engineer|$30101.16|53.4266145| -6.1644997|    30101.16|  30101.16015625|       53.4266145|  30101.16015625|\n",
            "|  8|   Goddart|     Flear|  Male|      Trélissac|Desktop Support T...|$46116.36|45.1905186|  0.7423124|    46116.36|    46116.359375|       45.1905186|             0.0|\n",
            "|  9|      Roth|O'Cannavan|  Male|         Heitan|VP Product Manage...|$73697.10| 32.027934| 106.657113|     73697.1|   73697.1015625|        32.027934|             0.0|\n",
            "| 10|      Bran|   Trahear|  Male|       Arbeláez|Mechanical System...|$68098.42|  4.272793| -74.416014|    68098.42|    68098.421875|         4.272793|             0.0|\n",
            "| 11|    Kylynn|   Lockart|Female|       El Cardo|Nuclear Power Eng...|$13604.63|     -5.85|-79.8833329|    13604.63|13604.6298828125|            -5.85|13604.6298828125|\n",
            "| 12|       Rey|    Meharg|Female|    Wangqingtuo|Systems Administr...|$73423.70| 39.172378| 116.931607|     73423.7|    73423.703125|        39.172378|    73423.703125|\n",
            "| 13|      Kerr|    Braden|  Male|      Sułkowice|Compensation Analyst|$33432.99|49.8151822| 19.3771749|    33432.99|  33432.98828125|       49.8151822|             0.0|\n",
            "| 14|    Mickie| Whanstall|  Male|    Springfield|Assistant Media P...|$50838.53|42.1014803|-72.5766759|    50838.53|     50838.53125|       42.1014803|             0.0|\n",
            "| 15|    Kaspar|     Pally|  Male|         Chrást|  Analyst Programmer|$40163.03|49.7923299| 13.4915324|    40163.03|     40163.03125|       49.7923299|             0.0|\n",
            "| 16|    Norbie|    Gwyllt|  Male|         Xijiao|              Editor|$32492.73|43.4945737|  5.8978018|    32492.73|  32492.73046875|       43.4945737|             0.0|\n",
            "| 17|    Claude|    Briant|Female|      Mieścisko|Research Assistan...|$51862.48|52.7441662| 17.3278637|    51862.48|  51862.48046875|       52.7441662|  51862.48046875|\n",
            "| 18|     Thain|    Habbon|  Male| Foros do Trapo|     Design Engineer|$42135.67| 38.696249| -8.7098337|    42135.67|    42135.671875|        38.696249|             0.0|\n",
            "| 19|  Tiffanie|  Pattison|Female|    Jabungsisir|Senior Financial ...|$91925.08|-7.7232567|113.4686802|    91925.08|    91925.078125|       -7.7232567|    91925.078125|\n",
            "| 20|    Ettore|  Gerriets|  Male|          Pedra| Staff Accountant IV|$73921.33|40.7172049| -8.3625148|    73921.33|    73921.328125|       40.7172049|             0.0|\n",
            "| 21|      Alon|  Chasteau|  Male|          Xin’e|     Web Developer I|$62755.85|  49.16291|  127.98658|    62755.85|   62755.8515625|         49.16291|             0.0|\n",
            "| 22|   Guthrey|    Johnke|  Male|         Xijiao|         Developer I|$13708.03|40.7576842| 23.1342184|    13708.03|13708.0302734375|       40.7576842|             0.0|\n",
            "+---+----------+----------+------+---------------+--------------------+---------+----------+-----------+------------+----------------+-----------------+----------------+\n",
            "only showing top 20 rows\n",
            "\n"
          ]
        }
      ]
    },
    {
      "cell_type": "code",
      "source": [
        "df = df.withColumn(\"male_salary\", when(data.gender == \"Male\", data.new_salary).otherwise(lit(0)))\n",
        "df.show()"
      ],
      "metadata": {
        "colab": {
          "base_uri": "https://localhost:8080/"
        },
        "id": "oj8_OWkubbMm",
        "outputId": "f48355c2-8689-40e1-ab72-3a4b7830fffd"
      },
      "execution_count": 40,
      "outputs": [
        {
          "output_type": "stream",
          "name": "stdout",
          "text": [
            "+---+----------+----------+------+---------------+--------------------+---------+----------+-----------+------------+----------------+-----------------+----------------+----------------+\n",
            "| id|first_name| last_name|gender|           city|            JobTitle|   Salary|  Latitude|  Longitude|clean_salary|      new_salary|              lat|   female_salary|     male_salary|\n",
            "+---+----------+----------+------+---------------+--------------------+---------+----------+-----------+------------+----------------+-----------------+----------------+----------------+\n",
            "|  1|   Melinde| Shilburne|Female|      Nowa Ruda| Assistant Professor|$57438.18|50.5774075| 16.4967184|    57438.18|   57438.1796875|       50.5774075|   57438.1796875|             0.0|\n",
            "|  2|  Kimberly|Von Welden|Female|         Bulgan|       Programmer II|$62846.60|48.8231572|103.5218199|     62846.6|   62846.6015625|       48.8231572|   62846.6015625|             0.0|\n",
            "|  4|   Shannon| O'Griffin|  Male|  Divnomorskoye|Budget/Accounting...|$61489.23|44.5047212| 38.1300171|    61489.23|  61489.23046875|       44.5047212|             0.0|  61489.23046875|\n",
            "|  5|  Sherwood|   Macieja|  Male|      Mytishchi|            VP Sales|$63863.09|      null| 37.6489954|    63863.09|  63863.08984375|31.93397331237793|             0.0|  63863.08984375|\n",
            "|  6|     Maris|      Folk|Female|Kinsealy-Drinan|      Civil Engineer|$30101.16|53.4266145| -6.1644997|    30101.16|  30101.16015625|       53.4266145|  30101.16015625|             0.0|\n",
            "|  8|   Goddart|     Flear|  Male|      Trélissac|Desktop Support T...|$46116.36|45.1905186|  0.7423124|    46116.36|    46116.359375|       45.1905186|             0.0|    46116.359375|\n",
            "|  9|      Roth|O'Cannavan|  Male|         Heitan|VP Product Manage...|$73697.10| 32.027934| 106.657113|     73697.1|   73697.1015625|        32.027934|             0.0|   73697.1015625|\n",
            "| 10|      Bran|   Trahear|  Male|       Arbeláez|Mechanical System...|$68098.42|  4.272793| -74.416014|    68098.42|    68098.421875|         4.272793|             0.0|    68098.421875|\n",
            "| 11|    Kylynn|   Lockart|Female|       El Cardo|Nuclear Power Eng...|$13604.63|     -5.85|-79.8833329|    13604.63|13604.6298828125|            -5.85|13604.6298828125|             0.0|\n",
            "| 12|       Rey|    Meharg|Female|    Wangqingtuo|Systems Administr...|$73423.70| 39.172378| 116.931607|     73423.7|    73423.703125|        39.172378|    73423.703125|             0.0|\n",
            "| 13|      Kerr|    Braden|  Male|      Sułkowice|Compensation Analyst|$33432.99|49.8151822| 19.3771749|    33432.99|  33432.98828125|       49.8151822|             0.0|  33432.98828125|\n",
            "| 14|    Mickie| Whanstall|  Male|    Springfield|Assistant Media P...|$50838.53|42.1014803|-72.5766759|    50838.53|     50838.53125|       42.1014803|             0.0|     50838.53125|\n",
            "| 15|    Kaspar|     Pally|  Male|         Chrást|  Analyst Programmer|$40163.03|49.7923299| 13.4915324|    40163.03|     40163.03125|       49.7923299|             0.0|     40163.03125|\n",
            "| 16|    Norbie|    Gwyllt|  Male|         Xijiao|              Editor|$32492.73|43.4945737|  5.8978018|    32492.73|  32492.73046875|       43.4945737|             0.0|  32492.73046875|\n",
            "| 17|    Claude|    Briant|Female|      Mieścisko|Research Assistan...|$51862.48|52.7441662| 17.3278637|    51862.48|  51862.48046875|       52.7441662|  51862.48046875|             0.0|\n",
            "| 18|     Thain|    Habbon|  Male| Foros do Trapo|     Design Engineer|$42135.67| 38.696249| -8.7098337|    42135.67|    42135.671875|        38.696249|             0.0|    42135.671875|\n",
            "| 19|  Tiffanie|  Pattison|Female|    Jabungsisir|Senior Financial ...|$91925.08|-7.7232567|113.4686802|    91925.08|    91925.078125|       -7.7232567|    91925.078125|             0.0|\n",
            "| 20|    Ettore|  Gerriets|  Male|          Pedra| Staff Accountant IV|$73921.33|40.7172049| -8.3625148|    73921.33|    73921.328125|       40.7172049|             0.0|    73921.328125|\n",
            "| 21|      Alon|  Chasteau|  Male|          Xin’e|     Web Developer I|$62755.85|  49.16291|  127.98658|    62755.85|   62755.8515625|         49.16291|             0.0|   62755.8515625|\n",
            "| 22|   Guthrey|    Johnke|  Male|         Xijiao|         Developer I|$13708.03|40.7576842| 23.1342184|    13708.03|13708.0302734375|       40.7576842|             0.0|13708.0302734375|\n",
            "+---+----------+----------+------+---------------+--------------------+---------+----------+-----------+------------+----------------+-----------------+----------------+----------------+\n",
            "only showing top 20 rows\n",
            "\n"
          ]
        }
      ]
    },
    {
      "cell_type": "code",
      "source": [
        "df.groupBy(\"JobTitle\").agg(sqlf.avg(\"female_salary\").alias(\"role_female_salary\"), sqlf.avg(\"male_salary\").alias(\"role_male_salary\")).show()"
      ],
      "metadata": {
        "colab": {
          "base_uri": "https://localhost:8080/"
        },
        "id": "M2CLM3PSblLZ",
        "outputId": "c2a7ed4f-4b45-40af-aa4f-cca0dd0ed219"
      },
      "execution_count": 42,
      "outputs": [
        {
          "output_type": "stream",
          "name": "stdout",
          "text": [
            "+--------------------+------------------+------------------+\n",
            "|            JobTitle|role_female_salary|  role_male_salary|\n",
            "+--------------------+------------------+------------------+\n",
            "|Systems Administr...|   50590.474609375|  15540.9501953125|\n",
            "|   Media Manager III|29586.436197916668|17381.920572916668|\n",
            "|  Recruiting Manager|34848.452473958336|  26383.4951171875|\n",
            "|       Geologist III|      31749.046875|    12830.75390625|\n",
            "|        Geologist II|               0.0|   43293.865234375|\n",
            "|Database Administ...|               0.0|     52018.4609375|\n",
            "|   Financial Analyst|   23353.776953125|       39606.05625|\n",
            "|  Analyst Programmer|  16406.1287109375|  21042.9634765625|\n",
            "|Software Engineer II|               0.0|      74782.640625|\n",
            "|       Accountant IV|   82732.248046875|               0.0|\n",
            "|    Product Engineer|    41825.48359375|       20464.94375|\n",
            "|Software Test Eng...|  32218.6083984375|   27122.462890625|\n",
            "|Safety Technician...|               0.0|   29421.529296875|\n",
            "|    Junior Executive|15752.220052083334|49510.330729166664|\n",
            "|Systems Administr...|       77059.21875|               0.0|\n",
            "|Human Resources A...|   24022.662109375| 16609.27783203125|\n",
            "|        VP Marketing| 7981.178385416667|52844.534830729164|\n",
            "|  Environmental Tech|13706.980143229166|      45660.890625|\n",
            "|Mechanical System...|31370.781901041668|44321.593098958336|\n",
            "| Assistant Professor|   22175.953515625|   26912.770703125|\n",
            "+--------------------+------------------+------------------+\n",
            "only showing top 20 rows\n",
            "\n"
          ]
        }
      ]
    },
    {
      "cell_type": "code",
      "source": [
        "df = df.groupBy(\"JobTitle\").agg(sqlf.avg(\"female_salary\").alias(\"role_female_salary\"), sqlf.avg(\"male_salary\").alias(\"role_male_salary\"))\n",
        "df.show()"
      ],
      "metadata": {
        "colab": {
          "base_uri": "https://localhost:8080/"
        },
        "id": "obV2FFBdcYPA",
        "outputId": "cc8342e6-9085-4fcb-d375-c987a1f156ee"
      },
      "execution_count": 47,
      "outputs": [
        {
          "output_type": "stream",
          "name": "stdout",
          "text": [
            "+--------------------+------------------+------------------+\n",
            "|            JobTitle|role_female_salary|  role_male_salary|\n",
            "+--------------------+------------------+------------------+\n",
            "|Systems Administr...|   50590.474609375|  15540.9501953125|\n",
            "|   Media Manager III|29586.436197916668|17381.920572916668|\n",
            "|  Recruiting Manager|34848.452473958336|  26383.4951171875|\n",
            "|       Geologist III|      31749.046875|    12830.75390625|\n",
            "|        Geologist II|               0.0|   43293.865234375|\n",
            "|Database Administ...|               0.0|     52018.4609375|\n",
            "|   Financial Analyst|   23353.776953125|       39606.05625|\n",
            "|  Analyst Programmer|  16406.1287109375|  21042.9634765625|\n",
            "|Software Engineer II|               0.0|      74782.640625|\n",
            "|       Accountant IV|   82732.248046875|               0.0|\n",
            "|    Product Engineer|    41825.48359375|       20464.94375|\n",
            "|Software Test Eng...|  32218.6083984375|   27122.462890625|\n",
            "|Safety Technician...|               0.0|   29421.529296875|\n",
            "|    Junior Executive|15752.220052083334|49510.330729166664|\n",
            "|Systems Administr...|       77059.21875|               0.0|\n",
            "|Human Resources A...|   24022.662109375| 16609.27783203125|\n",
            "|        VP Marketing| 7981.178385416667|52844.534830729164|\n",
            "|  Environmental Tech|13706.980143229166|      45660.890625|\n",
            "|Mechanical System...|31370.781901041668|44321.593098958336|\n",
            "| Assistant Professor|   22175.953515625|   26912.770703125|\n",
            "+--------------------+------------------+------------------+\n",
            "only showing top 20 rows\n",
            "\n"
          ]
        }
      ]
    },
    {
      "cell_type": "code",
      "source": [
        "df = df.withColumn('salary_delta', df.role_female_salary - df.role_male_salary)\n",
        "df.show()"
      ],
      "metadata": {
        "colab": {
          "base_uri": "https://localhost:8080/"
        },
        "id": "RjqnL6B9ckm7",
        "outputId": "bcf7ee9a-e590-4de6-95e1-b1d5b9507c3f"
      },
      "execution_count": 50,
      "outputs": [
        {
          "output_type": "stream",
          "name": "stdout",
          "text": [
            "+--------------------+------------------+------------------+-------------------+\n",
            "|            JobTitle|role_female_salary|  role_male_salary|       salary_delta|\n",
            "+--------------------+------------------+------------------+-------------------+\n",
            "|Systems Administr...|   50590.474609375|  15540.9501953125|   35049.5244140625|\n",
            "|   Media Manager III|29586.436197916668|17381.920572916668|       12204.515625|\n",
            "|  Recruiting Manager|34848.452473958336|  26383.4951171875|  8464.957356770836|\n",
            "|       Geologist III|      31749.046875|    12830.75390625|     18918.29296875|\n",
            "|        Geologist II|               0.0|   43293.865234375|   -43293.865234375|\n",
            "|Database Administ...|               0.0|     52018.4609375|     -52018.4609375|\n",
            "|   Financial Analyst|   23353.776953125|       39606.05625|   -16252.279296875|\n",
            "|  Analyst Programmer|  16406.1287109375|  21042.9634765625| -4636.834765625001|\n",
            "|Software Engineer II|               0.0|      74782.640625|      -74782.640625|\n",
            "|       Accountant IV|   82732.248046875|               0.0|    82732.248046875|\n",
            "|    Product Engineer|    41825.48359375|       20464.94375| 21360.539843750004|\n",
            "|Software Test Eng...|  32218.6083984375|   27122.462890625|    5096.1455078125|\n",
            "|Safety Technician...|               0.0|   29421.529296875|   -29421.529296875|\n",
            "|    Junior Executive|15752.220052083334|49510.330729166664| -33758.11067708333|\n",
            "|Systems Administr...|       77059.21875|               0.0|        77059.21875|\n",
            "|Human Resources A...|   24022.662109375| 16609.27783203125|   7413.38427734375|\n",
            "|        VP Marketing| 7981.178385416667|52844.534830729164|  -44863.3564453125|\n",
            "|  Environmental Tech|13706.980143229166|      45660.890625|-31953.910481770836|\n",
            "|Mechanical System...|31370.781901041668|44321.593098958336|-12950.811197916668|\n",
            "| Assistant Professor|   22175.953515625|   26912.770703125| -4736.817187500001|\n",
            "+--------------------+------------------+------------------+-------------------+\n",
            "only showing top 20 rows\n",
            "\n"
          ]
        }
      ]
    },
    {
      "cell_type": "code",
      "source": [
        "df = df.withColumn('percent_salary_delta', when(df.role_male_salary > df.role_female_salary, df.salary_delta / df.role_male_salary * 100).otherwise(df.salary_delta/df.role_female_salary * 100))\n",
        "df.show()\n"
      ],
      "metadata": {
        "colab": {
          "base_uri": "https://localhost:8080/"
        },
        "id": "tEkQNZ-Dc9OK",
        "outputId": "e0286994-5ad1-4401-ef5b-37bcbf1e2bd0"
      },
      "execution_count": 55,
      "outputs": [
        {
          "output_type": "stream",
          "name": "stdout",
          "text": [
            "+--------------------+------------------+------------------+-------------------+--------------------+\n",
            "|            JobTitle|role_female_salary|  role_male_salary|       salary_delta|percent_salary_delta|\n",
            "+--------------------+------------------+------------------+-------------------+--------------------+\n",
            "|Systems Administr...|   50590.474609375|  15540.9501953125|   35049.5244140625|    69.2808768541725|\n",
            "|   Media Manager III|29586.436197916668|17381.920572916668|       12204.515625|  41.250374135494496|\n",
            "|  Recruiting Manager|34848.452473958336|  26383.4951171875|  8464.957356770836|  24.290769764013355|\n",
            "|       Geologist III|      31749.046875|    12830.75390625|     18918.29296875|   59.58696348660073|\n",
            "|        Geologist II|               0.0|   43293.865234375|   -43293.865234375|              -100.0|\n",
            "|Database Administ...|               0.0|     52018.4609375|     -52018.4609375|              -100.0|\n",
            "|   Financial Analyst|   23353.776953125|       39606.05625|   -16252.279296875|  -41.03483364838931|\n",
            "|  Analyst Programmer|  16406.1287109375|  21042.9634765625| -4636.834765625001| -22.035084415697785|\n",
            "|Software Engineer II|               0.0|      74782.640625|      -74782.640625|              -100.0|\n",
            "|       Accountant IV|   82732.248046875|               0.0|    82732.248046875|               100.0|\n",
            "|    Product Engineer|    41825.48359375|       20464.94375| 21360.539843750004|   51.07063447544194|\n",
            "|Software Test Eng...|  32218.6083984375|   27122.462890625|    5096.1455078125|  15.817397960799717|\n",
            "|Safety Technician...|               0.0|   29421.529296875|   -29421.529296875|              -100.0|\n",
            "|    Junior Executive|15752.220052083334|49510.330729166664| -33758.11067708333|  -68.18397328377436|\n",
            "|Systems Administr...|       77059.21875|               0.0|        77059.21875|               100.0|\n",
            "|Human Resources A...|   24022.662109375| 16609.27783203125|   7413.38427734375|  30.859961496318217|\n",
            "|        VP Marketing| 7981.178385416667|52844.534830729164|  -44863.3564453125|  -84.89687077200725|\n",
            "|  Environmental Tech|13706.980143229166|      45660.890625|-31953.910481770836|   -69.9809181213728|\n",
            "|Mechanical System...|31370.781901041668|44321.593098958336|-12950.811197916668| -29.220094072433156|\n",
            "| Assistant Professor|   22175.953515625|   26912.770703125| -4736.817187500001| -17.600629975084583|\n",
            "+--------------------+------------------+------------------+-------------------+--------------------+\n",
            "only showing top 20 rows\n",
            "\n"
          ]
        }
      ]
    },
    {
      "cell_type": "code",
      "source": [
        "data.show()"
      ],
      "metadata": {
        "colab": {
          "base_uri": "https://localhost:8080/"
        },
        "id": "Ce0rQOIcedIE",
        "outputId": "8447c7de-2a97-4681-f231-85e32a79f835"
      },
      "execution_count": 56,
      "outputs": [
        {
          "output_type": "stream",
          "name": "stdout",
          "text": [
            "+---+----------+----------+------+---------------+--------------------+---------+----------+-----------+------------+----------------+-----------------+\n",
            "| id|first_name| last_name|gender|           city|            JobTitle|   Salary|  Latitude|  Longitude|clean_salary|      new_salary|              lat|\n",
            "+---+----------+----------+------+---------------+--------------------+---------+----------+-----------+------------+----------------+-----------------+\n",
            "|  1|   Melinde| Shilburne|Female|      Nowa Ruda| Assistant Professor|$57438.18|50.5774075| 16.4967184|    57438.18|   57438.1796875|       50.5774075|\n",
            "|  2|  Kimberly|Von Welden|Female|         Bulgan|       Programmer II|$62846.60|48.8231572|103.5218199|     62846.6|   62846.6015625|       48.8231572|\n",
            "|  4|   Shannon| O'Griffin|  Male|  Divnomorskoye|Budget/Accounting...|$61489.23|44.5047212| 38.1300171|    61489.23|  61489.23046875|       44.5047212|\n",
            "|  5|  Sherwood|   Macieja|  Male|      Mytishchi|            VP Sales|$63863.09|      null| 37.6489954|    63863.09|  63863.08984375|31.93397331237793|\n",
            "|  6|     Maris|      Folk|Female|Kinsealy-Drinan|      Civil Engineer|$30101.16|53.4266145| -6.1644997|    30101.16|  30101.16015625|       53.4266145|\n",
            "|  8|   Goddart|     Flear|  Male|      Trélissac|Desktop Support T...|$46116.36|45.1905186|  0.7423124|    46116.36|    46116.359375|       45.1905186|\n",
            "|  9|      Roth|O'Cannavan|  Male|         Heitan|VP Product Manage...|$73697.10| 32.027934| 106.657113|     73697.1|   73697.1015625|        32.027934|\n",
            "| 10|      Bran|   Trahear|  Male|       Arbeláez|Mechanical System...|$68098.42|  4.272793| -74.416014|    68098.42|    68098.421875|         4.272793|\n",
            "| 11|    Kylynn|   Lockart|Female|       El Cardo|Nuclear Power Eng...|$13604.63|     -5.85|-79.8833329|    13604.63|13604.6298828125|            -5.85|\n",
            "| 12|       Rey|    Meharg|Female|    Wangqingtuo|Systems Administr...|$73423.70| 39.172378| 116.931607|     73423.7|    73423.703125|        39.172378|\n",
            "| 13|      Kerr|    Braden|  Male|      Sułkowice|Compensation Analyst|$33432.99|49.8151822| 19.3771749|    33432.99|  33432.98828125|       49.8151822|\n",
            "| 14|    Mickie| Whanstall|  Male|    Springfield|Assistant Media P...|$50838.53|42.1014803|-72.5766759|    50838.53|     50838.53125|       42.1014803|\n",
            "| 15|    Kaspar|     Pally|  Male|         Chrást|  Analyst Programmer|$40163.03|49.7923299| 13.4915324|    40163.03|     40163.03125|       49.7923299|\n",
            "| 16|    Norbie|    Gwyllt|  Male|         Xijiao|              Editor|$32492.73|43.4945737|  5.8978018|    32492.73|  32492.73046875|       43.4945737|\n",
            "| 17|    Claude|    Briant|Female|      Mieścisko|Research Assistan...|$51862.48|52.7441662| 17.3278637|    51862.48|  51862.48046875|       52.7441662|\n",
            "| 18|     Thain|    Habbon|  Male| Foros do Trapo|     Design Engineer|$42135.67| 38.696249| -8.7098337|    42135.67|    42135.671875|        38.696249|\n",
            "| 19|  Tiffanie|  Pattison|Female|    Jabungsisir|Senior Financial ...|$91925.08|-7.7232567|113.4686802|    91925.08|    91925.078125|       -7.7232567|\n",
            "| 20|    Ettore|  Gerriets|  Male|          Pedra| Staff Accountant IV|$73921.33|40.7172049| -8.3625148|    73921.33|    73921.328125|       40.7172049|\n",
            "| 21|      Alon|  Chasteau|  Male|          Xin’e|     Web Developer I|$62755.85|  49.16291|  127.98658|    62755.85|   62755.8515625|         49.16291|\n",
            "| 22|   Guthrey|    Johnke|  Male|         Xijiao|         Developer I|$13708.03|40.7576842| 23.1342184|    13708.03|13708.0302734375|       40.7576842|\n",
            "+---+----------+----------+------+---------------+--------------------+---------+----------+-----------+------------+----------------+-----------------+\n",
            "only showing top 20 rows\n",
            "\n"
          ]
        }
      ]
    },
    {
      "cell_type": "code",
      "source": [
        "df = cityavg = data.groupBy(\"city\").agg(sqlf.avg(data.new_salary).alias(\"CityAvgSalary\")).sort(col('CityAvgSalary').desc())\n",
        "df.show()"
      ],
      "metadata": {
        "colab": {
          "base_uri": "https://localhost:8080/"
        },
        "id": "GzYXr1ALegln",
        "outputId": "e4e6625d-d081-4a32-df7d-39a442672398"
      },
      "execution_count": 61,
      "outputs": [
        {
          "output_type": "stream",
          "name": "stdout",
          "text": [
            "+-----------------+-------------+\n",
            "|             city|CityAvgSalary|\n",
            "+-----------------+-------------+\n",
            "|        Mesopotam|  99948.28125|\n",
            "|       Zhongcheng| 99942.921875|\n",
            "|           Caxias|99786.3984375|\n",
            "|      Karangtawar|99638.9921875|\n",
            "|        Itabaiana|  99502.15625|\n",
            "|           Pasian|  99421.34375|\n",
            "|           Webuye| 99368.546875|\n",
            "|      Yuktae-dong| 99250.828125|\n",
            "|           Zinder|  99222.84375|\n",
            "|   Timiryazevskiy|   99142.9375|\n",
            "|        Sawahbaru|99013.7109375|\n",
            "|          Madimba|98737.8671875|\n",
            "|         Huangshi|  98690.34375|\n",
            "|          Gharyan|   98679.3125|\n",
            "|         Yŏnan-ŭp| 98628.609375|\n",
            "|     Wringinputih|98603.8203125|\n",
            "|Monte da Boavista|  98586.71875|\n",
            "|          Klukeng|98439.4921875|\n",
            "|         Murmashi|  98226.15625|\n",
            "|        Fox Creek|      98138.0|\n",
            "+-----------------+-------------+\n",
            "only showing top 20 rows\n",
            "\n"
          ]
        }
      ]
    }
  ]
}