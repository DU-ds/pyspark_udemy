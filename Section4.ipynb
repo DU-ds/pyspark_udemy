{
  "nbformat": 4,
  "nbformat_minor": 0,
  "metadata": {
    "colab": {
      "name": "Section4.ipynb",
      "provenance": [],
      "authorship_tag": "ABX9TyNAK7RfNRSMxdCnnxPP+2HF",
      "include_colab_link": true
    },
    "kernelspec": {
      "name": "python3",
      "display_name": "Python 3"
    },
    "language_info": {
      "name": "python"
    }
  },
  "cells": [
    {
      "cell_type": "markdown",
      "metadata": {
        "id": "view-in-github",
        "colab_type": "text"
      },
      "source": [
        "<a href=\"https://colab.research.google.com/github/DU-ds/pyspark_udemy/blob/main/Section4.ipynb\" target=\"_parent\"><img src=\"https://colab.research.google.com/assets/colab-badge.svg\" alt=\"Open In Colab\"/></a>"
      ]
    },
    {
      "cell_type": "code",
      "execution_count": 4,
      "metadata": {
        "colab": {
          "base_uri": "https://localhost:8080/"
        },
        "id": "Jply4-bFg8Hb",
        "outputId": "b85f47b1-6896-4ba9-d06e-e851fe6a52fb"
      },
      "outputs": [
        {
          "output_type": "stream",
          "name": "stdout",
          "text": [
            "\u001b[33m\r0% [Working]\u001b[0m\r            \rHit:1 https://cloud.r-project.org/bin/linux/ubuntu bionic-cran40/ InRelease\n",
            "\u001b[33m\r0% [Connecting to archive.ubuntu.com (91.189.88.142)] [Waiting for headers] [Co\u001b[0m\u001b[33m\r0% [1 InRelease gpgv 3,626 B] [Connecting to archive.ubuntu.com (91.189.88.142)\u001b[0m\r                                                                               \rHit:2 http://security.ubuntu.com/ubuntu bionic-security InRelease\n",
            "Ign:3 https://developer.download.nvidia.com/compute/cuda/repos/ubuntu1804/x86_64  InRelease\n",
            "Ign:4 https://developer.download.nvidia.com/compute/machine-learning/repos/ubuntu1804/x86_64  InRelease\n",
            "Hit:5 https://developer.download.nvidia.com/compute/cuda/repos/ubuntu1804/x86_64  Release\n",
            "Hit:6 https://developer.download.nvidia.com/compute/machine-learning/repos/ubuntu1804/x86_64  Release\n",
            "Hit:7 http://archive.ubuntu.com/ubuntu bionic InRelease\n",
            "Hit:8 http://ppa.launchpad.net/c2d4u.team/c2d4u4.0+/ubuntu bionic InRelease\n",
            "Hit:9 http://archive.ubuntu.com/ubuntu bionic-updates InRelease\n",
            "Hit:10 http://archive.ubuntu.com/ubuntu bionic-backports InRelease\n",
            "Hit:11 http://ppa.launchpad.net/cran/libgit2/ubuntu bionic InRelease\n",
            "Hit:13 http://ppa.launchpad.net/deadsnakes/ppa/ubuntu bionic InRelease\n",
            "Hit:15 http://ppa.launchpad.net/graphics-drivers/ppa/ubuntu bionic InRelease\n",
            "Reading package lists... Done\n",
            "Building dependency tree       \n",
            "Reading state information... Done\n",
            "58 packages can be upgraded. Run 'apt list --upgradable' to see them.\n",
            "\n",
            "WARNING: apt does not have a stable CLI interface. Use with caution in scripts.\n",
            "\n",
            "^C\n",
            "challenge.csv  spark-2.3.1-bin-hadoop2.7      spark-2.3.1-bin-hadoop2.7.tgz.1\n",
            "sample_data    spark-2.3.1-bin-hadoop2.7.tgz  spark-2.3.1-bin-hadoop2.7.tgz.2\n",
            "+---------------+--------------+-----------------+----------+\n",
            "|     ip_address|       Country|      Domain Name|Bytes_used|\n",
            "+---------------+--------------+-----------------+----------+\n",
            "|  52.81.192.172|         China| odnoklassniki.ru|       463|\n",
            "| 119.239.207.13|         China|         youtu.be|        51|\n",
            "|  68.69.217.210|         China|        adobe.com|        10|\n",
            "|   7.191.21.223|      Bulgaria|     linkedin.com|       853|\n",
            "|   211.13.10.68|     Indonesia|          hud.gov|        29|\n",
            "|   239.80.21.97|      Suriname|       smh.com.au|       218|\n",
            "|106.214.106.233|       Jamaica|    amazonaws.com|        95|\n",
            "| 127.242.24.138|         China| surveymonkey.com|       123|\n",
            "|     99.2.6.139|Czech Republic|     geocities.jp|       322|\n",
            "|   237.54.11.63|         China|       amazon.com|        83|\n",
            "| 252.141.157.25|         Japan|      cornell.edu|       374|\n",
            "|185.220.128.248|       Belgium|       weebly.com|       389|\n",
            "|   151.77.19.45|   Afghanistan|independent.co.uk|       282|\n",
            "|  9.161.158.225|     Indonesia|    bloglines.com|       726|\n",
            "| 156.144.61.155|Czech Republic|   slideshare.net|       657|\n",
            "|   8.96.188.151|     Indonesia|          ibm.com|       517|\n",
            "|      5.72.7.65|        Mexico|         youtu.be|       877|\n",
            "|227.110.112.144|       Croatia|         ehow.com|       287|\n",
            "|    81.71.28.97|      Thailand|          last.fm|       588|\n",
            "|  9.255.129.184|      Thailand|          mtv.com|       114|\n",
            "+---------------+--------------+-----------------+----------+\n",
            "only showing top 20 rows\n",
            "\n"
          ]
        }
      ],
      "source": [
        "! apt update\n",
        "! apt install openjdk-8-jdk-headless -qq > /dev/null\n",
        "! wget -q http://archive.apache.org/dist/spark/spark-2.3.1/spark-2.3.1-bin-hadoop2.7.tgz\n",
        "! tar xf spark-2.3.1-bin-hadoop2.7.tgz\n",
        "! pip install -q findspark\n",
        "\n",
        "import os\n",
        "os.environ[\"JAVA_HOME\"] = \"/usr/lib/jvm/java-8-openjdk-amd64\"\n",
        "os.environ[\"SPARK_HOME\"] = \"/content/spark-2.3.1-bin-hadoop2.7\"\n",
        "\n",
        "! ls\n",
        "\n",
        "import findspark\n",
        "findspark.init()\n",
        "\n",
        "import pyspark\n",
        "from pyspark.sql import SparkSession\n",
        "\n",
        "spark = SparkSession.builder.getOrCreate()\n",
        "spark\n",
        "\n",
        "from pyspark.sql import types\n",
        "\n",
        "\n"
      ]
    },
    {
      "cell_type": "code",
      "source": [
        "df = spark.read.csv(\"challenge.csv\", header=True)\n",
        "df.show()"
      ],
      "metadata": {
        "colab": {
          "base_uri": "https://localhost:8080/"
        },
        "id": "XJ5WFq5ghBoR",
        "outputId": "acf899f1-e0c3-4eb0-a052-f6aa0e1e6ee9"
      },
      "execution_count": 5,
      "outputs": [
        {
          "output_type": "stream",
          "name": "stdout",
          "text": [
            "+---------------+--------------+-----------------+----------+\n",
            "|     ip_address|       Country|      Domain Name|Bytes_used|\n",
            "+---------------+--------------+-----------------+----------+\n",
            "|  52.81.192.172|         China| odnoklassniki.ru|       463|\n",
            "| 119.239.207.13|         China|         youtu.be|        51|\n",
            "|  68.69.217.210|         China|        adobe.com|        10|\n",
            "|   7.191.21.223|      Bulgaria|     linkedin.com|       853|\n",
            "|   211.13.10.68|     Indonesia|          hud.gov|        29|\n",
            "|   239.80.21.97|      Suriname|       smh.com.au|       218|\n",
            "|106.214.106.233|       Jamaica|    amazonaws.com|        95|\n",
            "| 127.242.24.138|         China| surveymonkey.com|       123|\n",
            "|     99.2.6.139|Czech Republic|     geocities.jp|       322|\n",
            "|   237.54.11.63|         China|       amazon.com|        83|\n",
            "| 252.141.157.25|         Japan|      cornell.edu|       374|\n",
            "|185.220.128.248|       Belgium|       weebly.com|       389|\n",
            "|   151.77.19.45|   Afghanistan|independent.co.uk|       282|\n",
            "|  9.161.158.225|     Indonesia|    bloglines.com|       726|\n",
            "| 156.144.61.155|Czech Republic|   slideshare.net|       657|\n",
            "|   8.96.188.151|     Indonesia|          ibm.com|       517|\n",
            "|      5.72.7.65|        Mexico|         youtu.be|       877|\n",
            "|227.110.112.144|       Croatia|         ehow.com|       287|\n",
            "|    81.71.28.97|      Thailand|          last.fm|       588|\n",
            "|  9.255.129.184|      Thailand|          mtv.com|       114|\n",
            "+---------------+--------------+-----------------+----------+\n",
            "only showing top 20 rows\n",
            "\n"
          ]
        }
      ]
    },
    {
      "cell_type": "code",
      "source": [
        "from pyspark.sql import functions as sqlf\n",
        "df_mex = df.withColumn(\"mexico\", sqlf.when(df.Country == \"Mexico\", \"YES\").otherwise(\"NO\"))\n",
        "df_mex.show()"
      ],
      "metadata": {
        "colab": {
          "base_uri": "https://localhost:8080/"
        },
        "id": "EpMam8Eph55g",
        "outputId": "3b27acff-c0da-4f66-fe75-6437a7fb1c33"
      },
      "execution_count": 10,
      "outputs": [
        {
          "output_type": "stream",
          "name": "stdout",
          "text": [
            "+---------------+--------------+-----------------+----------+------+\n",
            "|     ip_address|       Country|      Domain Name|Bytes_used|mexico|\n",
            "+---------------+--------------+-----------------+----------+------+\n",
            "|  52.81.192.172|         China| odnoklassniki.ru|       463|    NO|\n",
            "| 119.239.207.13|         China|         youtu.be|        51|    NO|\n",
            "|  68.69.217.210|         China|        adobe.com|        10|    NO|\n",
            "|   7.191.21.223|      Bulgaria|     linkedin.com|       853|    NO|\n",
            "|   211.13.10.68|     Indonesia|          hud.gov|        29|    NO|\n",
            "|   239.80.21.97|      Suriname|       smh.com.au|       218|    NO|\n",
            "|106.214.106.233|       Jamaica|    amazonaws.com|        95|    NO|\n",
            "| 127.242.24.138|         China| surveymonkey.com|       123|    NO|\n",
            "|     99.2.6.139|Czech Republic|     geocities.jp|       322|    NO|\n",
            "|   237.54.11.63|         China|       amazon.com|        83|    NO|\n",
            "| 252.141.157.25|         Japan|      cornell.edu|       374|    NO|\n",
            "|185.220.128.248|       Belgium|       weebly.com|       389|    NO|\n",
            "|   151.77.19.45|   Afghanistan|independent.co.uk|       282|    NO|\n",
            "|  9.161.158.225|     Indonesia|    bloglines.com|       726|    NO|\n",
            "| 156.144.61.155|Czech Republic|   slideshare.net|       657|    NO|\n",
            "|   8.96.188.151|     Indonesia|          ibm.com|       517|    NO|\n",
            "|      5.72.7.65|        Mexico|         youtu.be|       877|   YES|\n",
            "|227.110.112.144|       Croatia|         ehow.com|       287|    NO|\n",
            "|    81.71.28.97|      Thailand|          last.fm|       588|    NO|\n",
            "|  9.255.129.184|      Thailand|          mtv.com|       114|    NO|\n",
            "+---------------+--------------+-----------------+----------+------+\n",
            "only showing top 20 rows\n",
            "\n"
          ]
        }
      ]
    },
    {
      "cell_type": "code",
      "source": [
        "df_mex.groupBy(\"mexico\").agg(sqlf.sum(df.Bytes_used)).alias(\"Bytes_Mexico\").show()"
      ],
      "metadata": {
        "colab": {
          "base_uri": "https://localhost:8080/"
        },
        "id": "8aZl-U_Fh5yU",
        "outputId": "2b8ef131-3dc9-4f8d-8586-5f21743b7fb6"
      },
      "execution_count": 11,
      "outputs": [
        {
          "output_type": "stream",
          "name": "stdout",
          "text": [
            "+------+---------------+\n",
            "|mexico|sum(Bytes_used)|\n",
            "+------+---------------+\n",
            "|   YES|         6293.0|\n",
            "|    NO|       508076.0|\n",
            "+------+---------------+\n",
            "\n"
          ]
        }
      ]
    },
    {
      "cell_type": "code",
      "source": [
        "df_ip_country = df.groupBy(\"Country\").agg(sqlf.countDistinct(\"ip_address\").alias(\"ips_per_country\"))\n",
        "df_ip_country.sort(col(\"ips_per_country\").desc()).show()"
      ],
      "metadata": {
        "colab": {
          "base_uri": "https://localhost:8080/"
        },
        "id": "PLn2I6YAh5vR",
        "outputId": "fefcac29-fe93-4dfd-d895-fd427d9cd3bc"
      },
      "execution_count": 18,
      "outputs": [
        {
          "output_type": "stream",
          "name": "stdout",
          "text": [
            "+--------------+---------------+\n",
            "|       Country|ips_per_country|\n",
            "+--------------+---------------+\n",
            "|         China|            172|\n",
            "|     Indonesia|            114|\n",
            "|   Philippines|             65|\n",
            "|        Russia|             56|\n",
            "|        Brazil|             35|\n",
            "|        Poland|             31|\n",
            "|        Sweden|             28|\n",
            "|         Japan|             25|\n",
            "|      Portugal|             23|\n",
            "|Czech Republic|             23|\n",
            "|        France|             21|\n",
            "|          Peru|             19|\n",
            "|      Colombia|             17|\n",
            "| United States|             15|\n",
            "|     Argentina|             14|\n",
            "|       Ukraine|             14|\n",
            "|        Mexico|             13|\n",
            "|      Thailand|             12|\n",
            "|       Nigeria|             11|\n",
            "|        Canada|             11|\n",
            "+--------------+---------------+\n",
            "only showing top 20 rows\n",
            "\n"
          ]
        }
      ]
    },
    {
      "cell_type": "code",
      "source": [
        ""
      ],
      "metadata": {
        "id": "QezAqCK8h5gn"
      },
      "execution_count": null,
      "outputs": []
    }
  ]
}